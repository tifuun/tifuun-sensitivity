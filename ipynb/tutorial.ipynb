{
 "cells": [
  {
   "cell_type": "markdown",
   "id": "76695e78-32e8-4bfe-bc5b-e0dde5ec1175",
   "metadata": {},
   "source": [
    "# `tifuun-sensitivity` tutorial. "
   ]
  },
  {
   "cell_type": "markdown",
   "id": "efe5c759-76b5-4f31-bd35-1680616b4c07",
   "metadata": {},
   "source": [
    "In this tutorial for `tifuun-sensitivity`, we will discuss how to use the program. It is divided into three sections:\n",
    "- Defining input structures and parameters.\n",
    "- Running a calculation.\n",
    "- Understanding the output format.\n",
    "\n",
    "First, we discuss the input structures. We will define the telescope and instrument. Then, we will discuss an important input: the radiative transfer cascade. Lastly, we discuss some other input parameters that pertain to details unrelated to the telescope, instrument, or cascade, which are important for calculating some output quantities. \n",
    "\n",
    "After that, we show quickly how to use the `tifuun-sensitivity` package and how to call the relevant functions.\n",
    "\n",
    "Finally, we discuss the output given by `tifuun-sensitivity`.\n",
    "\n",
    "Throughout this tutorial, we will use parameters of DESHIMA 2.0."
   ]
  },
  {
   "cell_type": "markdown",
   "id": "911ac819-0451-4359-ad94-1ec1c509fc6b",
   "metadata": {},
   "source": [
    "## Part 1: input to calculation"
   ]
  },
  {
   "cell_type": "markdown",
   "id": "e372e9f3-bc41-4606-81c0-da886028b2cd",
   "metadata": {},
   "source": [
    "The telescope and instrument are defined using dictionaries. These dictionaries have the same structure as the input dictionaries for the `gateau` package (the end-to-end simulator for TIFUUN). However, the required parameters only form a subset of the `gateau` input since the sensitivity calculation is significantly more simple than the full simulation. We will now describe each dictionary in detail."
   ]
  },
  {
   "cell_type": "markdown",
   "id": "82559cd4-f039-4d19-a443-a49bdd021acf",
   "metadata": {},
   "source": [
    "### Telescope dictionary"
   ]
  },
  {
   "cell_type": "markdown",
   "id": "2282e1a8-891f-45ca-8fcb-d449565ff7e9",
   "metadata": {},
   "source": [
    "The important parameters for the telescope are: diameter, RMS surface roughness, aperture efficiency, and elevation. These should be assigned to a dictionary, where the field names should be as in the following example:"
   ]
  },
  {
   "cell_type": "code",
   "execution_count": 7,
   "id": "3360ee91-4ed1-4195-926a-3af5156a7e5a",
   "metadata": {},
   "outputs": [],
   "source": [
    "import numpy as np\n",
    "import matplotlib.pyplot as plt\n",
    "\n",
    "from tifuun_sensitivity.simulator import calculator\n",
    "\n",
    "diameter = 10    # Diameter, units: m\n",
    "s_rms    = 42e-6 # RMS surface roughness, units: m\n",
    "eta_ap   = 0.7   # Aperture efficiency at zero frequency (so not including Ruze efficiency), units: none\n",
    "EL0      = 60    # Elevation angle of telescope with respect to the horizon, units: degrees\n",
    "\n",
    "telescope = {\n",
    "    \"D_tel\"   : diameter,\n",
    "    \"s_rms\"   : s_rms,\n",
    "    \"eta_ap\"  : eta_ap,\n",
    "    \"EL0\"     : EL0,\n",
    "}"
   ]
  },
  {
   "cell_type": "markdown",
   "id": "22dfc886-3476-4fdb-a3cd-ec9ce6a0e650",
   "metadata": {},
   "source": [
    "Note that we also put the imports here for `numpy`, `matplotlib`, and `tifuun-sensitivity`. We will need these later on."
   ]
  },
  {
   "cell_type": "markdown",
   "id": "31324b70-d6bb-4477-ae20-2b69bbf71ee2",
   "metadata": {},
   "source": [
    "### Instrument dictionary"
   ]
  },
  {
   "cell_type": "markdown",
   "id": "39cf4ec2-dc3d-47ad-a1d6-b1c9dccf5b6f",
   "metadata": {},
   "source": [
    "The instrument is quite important, as this sets the response curves for the filterbank. Currently, these can be Lorentzians, or measured shapes loaded from a file. \n",
    "\n",
    "If a Lorentzian filterbank is required, the resolving power and central channel frequencies should be passed. Additionally, the in-band fraction should be given. This is a number specifying how much of the filter couples to line emission and continuum emission. This number is usually 0.5, meaning that continuum emission loads a filter shape more by about a factor 2. Since it is really not a necessity of `gateau` to calculate different coupling efficiencies for line and continuum, this factor is unique for `tifuun-sensitivity`. Another, optional, parameter is the KID excess noise factor. If this is not given, it is set to 1 for the calculation. This factor is also unique to `tifuun-sensitivity`.\n",
    "\n",
    "An instrument dictionary with a Lorentzian filterbank is specified as follows:"
   ]
  },
  {
   "cell_type": "code",
   "execution_count": 8,
   "id": "dff58cdf-f465-4aa1-b4a9-d0203462162b",
   "metadata": {},
   "outputs": [],
   "source": [
    "f0 = 220\n",
    "nf = 350\n",
    "R = 500\n",
    "\n",
    "f_ch = f0 * (1 + 1/R)**np.arange(nf) \n",
    "\n",
    "instrument = {\n",
    "    \"f_ch\"    : f_ch, # Channel frequencies in GHz\n",
    "    \"R\"       : R,    # Resolving power\n",
    "    \"eta_IBF\" : 0.5, # in-band fraction\n",
    "    \"KID_excess_noise_factor\" : 1.1\n",
    "}"
   ]
  },
  {
   "cell_type": "markdown",
   "id": "15c0e026-73ac-421d-8197-190abd6bbf91",
   "metadata": {},
   "source": [
    "For a custom filterbank, the `\"f_ch\"` field should contain a `numpy` array with the center frequencies of each filter. The `\"R\"` field should contain a `numpy` array with shape `(2,N)`, with the first column containing the frequencies at which the filterbank has been measured in GHz, and the second column contains the filter shapes. Note that, if the measured filters have not been normalised (and thus contain the transmission coefficient as well), the final efficiency in the cascade (which couples to the filterbank) should be set at 1. We will come back to this when discussing the cascade in the next section.\n",
    "\n",
    "Note that, when working from Lorentzian filterbanks, `tifuun-sensitivity` will calculate the frequency points at which to evaluate the filterbank for you. That's why this does not need to be passed when generating the filterbank from a single \"R\" value."
   ]
  },
  {
   "cell_type": "markdown",
   "id": "cd4a1f7e-a2ce-4f53-a448-4fd3db47679f",
   "metadata": {},
   "source": [
    "### Cascade List"
   ]
  },
  {
   "cell_type": "markdown",
   "id": "0978eb03-ccf9-4337-b7fe-8df80ca293ed",
   "metadata": {},
   "source": [
    "The cascade list is a list containing dictionaries. Each of these dictionaries defines a radiative transfer stage of the cascade, where the incoming radiation is attenuated by a specific efficiency term pertaining to the stage, and radiation is added due to the emissivity of the stage. In formula form:\n",
    "$$P_{\\nu,\\mathrm{out}} = \\eta_\\mathrm{stage} P_{\\nu,\\mathrm{in}} + (1 - \\eta_\\mathrm{stage}) P_{\\nu,\\mathrm{stage}},$$\n",
    "where $P_{\\nu,\\mathrm{out}}$ is the power spectral density of the outgoing radiation, $\\eta_\\mathrm{stage}$ the efficiency term associated with this stage, $P_{\\nu,\\mathrm{in}}$ the power spectral density of the incoming radiation, and $P_{\\nu,\\mathrm{stage}}$ the single-moded Johnson-Nyquist power spectral density of the radiation emitted by the stage itself, which we will often refer to as the 'parasitic' source.\n",
    "\n",
    "A dictionary for a single stage can be divided into two types: a **reflective stage**, where light solely reflects off the stage as is the case for, for example, spillover losses or Ohmic losses, or a **refractive stage**, which is the case for cryostat windows and lenses. Note that refractive stages could also contain reflective stages if they are not AR coated. We will start by discussing reflective stages.\n",
    "\n",
    "#### Reflective cascade stages\n",
    "These require two dictionary fields: one containing the efficiency of the stage, named \"eta_coup\", and one containing the physical temperature of the parasitic source, named \"T_parasitic\". Let's say we would like to include spillover losses on the primary reflector of the telescope. Let's assume the spillover efficiency is 0.99. Also, the part of the beam that spills over will couple to the ground, which has a physical temperature of 273 K (for example). The dictionary would look like this:"
   ]
  },
  {
   "cell_type": "code",
   "execution_count": 9,
   "id": "24d2521f-2ea3-48ba-826d-2d4e35b27ed4",
   "metadata": {},
   "outputs": [],
   "source": [
    "cascade_list = []\n",
    "\n",
    "primary_spillover = {\n",
    "    \"eta_coup\"     : 0.99,\n",
    "    \"T_parasitic\"  : 273\n",
    "}\n",
    "\n",
    "cascade_list.append(primary_spillover)"
   ]
  },
  {
   "cell_type": "markdown",
   "id": "1b236a58-3062-4875-838c-e200d470116d",
   "metadata": {},
   "source": [
    "Now, say this primary reflector is made out of aluminium. Therefore, Ohmic losses should be included. This can be done by defining a new stage."
   ]
  },
  {
   "cell_type": "code",
   "execution_count": 10,
   "id": "d1b66aa6-1072-471d-988e-03474adf7341",
   "metadata": {},
   "outputs": [],
   "source": [
    "primary_Ohmic = {\n",
    "    \"eta_coup\"     : \"Ohmic-Al\",\n",
    "    \"T_parasitic\"  : 273\n",
    "}\n",
    "\n",
    "cascade_list.append(primary_Ohmic)"
   ]
  },
  {
   "cell_type": "markdown",
   "id": "61f0846d-55ed-4c88-bf97-98c916086194",
   "metadata": {},
   "source": [
    "By passing \"Ohmic-Al\" as \"eta_coup\", it tells `tifuun-sensitivity` to use the efficiency of aluminium. This is calculated from measured values at 850 GHz, and converted to the range used by the filterbank. \n",
    "\n",
    "The next stage would be the secondary mirror. We will assume a spillover efficiency of 0.9 for this. However, the part of the beam that spills over does not couple to 273 K now, but rather directly to the atmosphere. The atmosphere power spectral density has a rather complex shape that cannot be parameterised by a single temperature and hence needs a special way of incorporating. This can be done in the following way:"
   ]
  },
  {
   "cell_type": "code",
   "execution_count": 11,
   "id": "32a5e1a3-d07a-4eeb-a97c-fd00f6dc4e21",
   "metadata": {},
   "outputs": [],
   "source": [
    "secondary_spillover = {\n",
    "    \"eta_coup\"     : 0.9,\n",
    "    \"T_parasitic\"  : \"atmosphere\"\n",
    "}\n",
    "\n",
    "cascade_list.append(secondary_spillover)"
   ]
  },
  {
   "cell_type": "markdown",
   "id": "859eb9be-3231-4ff0-a64d-db84a999ba4a",
   "metadata": {},
   "source": [
    "This tells `tifuun-sensitivity` that it should use the atmosphere power spectral density in this stage as the parasitic source. This is calculated already in the beginning of the cascade using the physical temperature of the atmosphere and the precipitable water vapor (pwv) (see next subsectuion on inputs) and the `ATM` model to calculate transmission of the atmosphere as function of frequency and pwv."
   ]
  },
  {
   "cell_type": "markdown",
   "id": "469d598c-67e5-4480-8bac-b98248d460af",
   "metadata": {},
   "source": [
    "### Other input parameters"
   ]
  },
  {
   "cell_type": "markdown",
   "id": "a50eb1bb-510f-47db-ad0c-985e4ff2dbb6",
   "metadata": {},
   "source": [
    "Aside from the input dictionaries, `tifuun-sensitivity` requires a couple of other input parameters. These are passed separately, because they do not depend on the telescope or instrument, but rather on the atmosphere and observation length or requirements. the extra parameters are:"
   ]
  },
  {
   "cell_type": "code",
   "execution_count": 12,
   "id": "c1f00bc8-c193-4988-b754-2970c5d13572",
   "metadata": {},
   "outputs": [],
   "source": [
    "PWV = 0.5 # Precipitable water vapor, units: mm\n",
    "Tb_cmb = 2.725 # CMB temperature, units: K\n",
    "Tp_atm = 273 # Physical temperature of atmosphere, units: K\n",
    "snr = 5 # Signal-to-noise required for a line to be detectable. Used for calculating MDLF. Units: none\n",
    "obs_hours = 1 # Number of hours spent observing.Used for calculating MDLF.\n",
    "on_source_fraction = 0.4 * 0.9 # How much of the scanning time is actually spent on-source. This also reflects chopping.\n",
    "on_off = True # Whether or not to perform sky chopping"
   ]
  },
  {
   "cell_type": "markdown",
   "id": "fe3bc0e6-e5dc-4154-8678-b9bae6971afd",
   "metadata": {},
   "source": [
    "## Running the calculation"
   ]
  },
  {
   "cell_type": "markdown",
   "id": "fe7106ba-b39d-46f5-905f-483d3c7d1280",
   "metadata": {},
   "source": [
    "After defining all input parameters, it is really simple to start the calculation:"
   ]
  },
  {
   "cell_type": "code",
   "execution_count": null,
   "id": "256f7c8b-884a-4d29-bb86-d8bbf9275e21",
   "metadata": {},
   "outputs": [],
   "source": []
  },
  {
   "cell_type": "code",
   "execution_count": null,
   "id": "a9258139-be7e-4b76-89bd-cbd16833c87d",
   "metadata": {},
   "outputs": [],
   "source": []
  },
  {
   "cell_type": "code",
   "execution_count": null,
   "id": "95736346-7018-4968-a73b-3c8e4937685f",
   "metadata": {},
   "outputs": [],
   "source": []
  },
  {
   "cell_type": "code",
   "execution_count": null,
   "id": "7fcf8707-5d88-427f-a5f2-4ce529b6e7b9",
   "metadata": {},
   "outputs": [],
   "source": []
  }
 ],
 "metadata": {
  "kernelspec": {
   "display_name": "Python 3 (ipykernel)",
   "language": "python",
   "name": "python3"
  },
  "language_info": {
   "codemirror_mode": {
    "name": "ipython",
    "version": 3
   },
   "file_extension": ".py",
   "mimetype": "text/x-python",
   "name": "python",
   "nbconvert_exporter": "python",
   "pygments_lexer": "ipython3",
   "version": "3.11.2"
  }
 },
 "nbformat": 4,
 "nbformat_minor": 5
}
